{
 "cells": [
  {
   "cell_type": "code",
   "execution_count": 9,
   "metadata": {},
   "outputs": [],
   "source": [
    "%matplotlib inline"
   ]
  },
  {
   "cell_type": "code",
   "execution_count": 16,
   "metadata": {},
   "outputs": [],
   "source": [
    "from datetime import date\n",
    "import requests\n",
    "import matplotlib.pyplot as plt\n",
    "import quandl\n",
    "import csv\n",
    "import pandas as pd\n",
    "import json"
   ]
  },
  {
   "cell_type": "code",
   "execution_count": 17,
   "metadata": {},
   "outputs": [
    {
     "data": {
      "text/plain": [
       "datetime.date(2020, 3, 29)"
      ]
     },
     "execution_count": 17,
     "metadata": {},
     "output_type": "execute_result"
    }
   ],
   "source": [
    "today = date.today()\n",
    "today"
   ]
  },
  {
   "cell_type": "code",
   "execution_count": null,
   "metadata": {},
   "outputs": [],
   "source": [
    "sample_query_url = url + database_code + '/' + dataset_code + '/data.' + return_format + '?api_key=' + api_key"
   ]
  },
  {
   "cell_type": "code",
   "execution_count": 110,
   "metadata": {},
   "outputs": [
    {
     "data": {
      "text/plain": [
       "<Response [200]>"
      ]
     },
     "execution_count": 110,
     "metadata": {},
     "output_type": "execute_result"
    }
   ],
   "source": [
    "request = requests.get('https://s3.amazonaws.com/quandl-production-static/zillow/indicators.csv')\n",
    "requestStatus = request\n",
    "requestStatus"
   ]
  },
  {
   "cell_type": "code",
   "execution_count": 111,
   "metadata": {
    "scrolled": true
   },
   "outputs": [
    {
     "data": {
      "text/plain": [
       "'INDICATOR|CODE\\nAge of Inventory (Public)|AOIP\\nBuyer Seller Index|BSI\\nDays on Zillow (Public)|DOZP\\nHome Sales (NSA)|SALES\\nHome Sales (SA)|SASALES\\nHome Sold As Foreclosure - Ratio - All Homes|HSAFRAL\\nInventory Measure (Public)|IMP\\nInventory Measure - SSA (Public)|IMSP\\nInventory Measure - Tiers (Public)|IMTP\\nListings Price Cuts (SA) All Homes|LPCSAL\\nListings Price Cuts (SA) Bottom Tier|LPCSBT\\nListings Price Cuts (SA) Condominiums|LPCSCO\\nListings Price Cuts (SA) Middle Tier|LPCSMT\\nListings Price Cuts (SA) Single-Family Residence|LPCSSF\\nListings Price Cuts (SA) Top Tier|LPCSTT\\nMarket Health Index|MHI\\nMedian Listing Price - All Homes|MLPAH\\nMedian Listing Price - Condo/Co-op|MLPCC\\nMedian Listing Price - Duplex/Triplex|MLPDT\\nMedian Listing Price - Five Or More Bedrooms|MLP5B\\nMedian Listing Price - Four Bedrooms|MLP4B\\nMedian Listing Price - One Bedroom|MLP1B\\nMedian Listing Price - Single-Family Residence|MLPSF\\nMedian Listing Price - Three Bedrooms|MLP3B\\nMedian Listing Price - Two Bedrooms|MLP2B\\nMedian Listing Price Per Square Foot - All Homes|MLPFAH\\nMedian Listing Price Per Square Foot - Condo/Co-op|MLPFCC\\nMedian Listing Price Per Square Foot - Duplex/Triplex|MLPFDT\\nMedian Listing Price Per Square Foot - Five Or More Bedrooms|MLPF5B\\nMedian Listing Price Per Square Foot - Four Bedrooms|MLPF4B\\nMedian Listing Price Per Square Foot - One Bedroom|MLPF1B\\nMedian Listing Price Per Square Foot - Single-Family Residence|MLPFSF\\nMedian Listing Price Per Square Foot - Three Bedrooms|MLPF3B\\nMedian Listing Price Per Square Foot - Two Bedrooms|MLPF2B\\nMedian Price Cut Dollar - All Homes|MPCDAH\\nMedian Price Cut Dollar - Condo|MPCDCO\\nMedian Price Cut Dollar - Single-Family Residence|MPCDSF\\nMedian Price Of Reduction - All Homes|MPPRAH\\nMedian Price Of Reduction - Condo|MPPRCO\\nMedian Price Of Reduction - Single-Family Residence|MPPRSF\\nMedian Rental Price - All Homes|MRPAH\\nMedian Rental Price - Condo/Co-op|MRPCC\\nMedian Rental Price - Duplex/Triplex|MRPDT\\nMedian Rental Price - Five Or More Bedrooms|MR51B\\nMedian Rental Price - Four Bedrooms|MRP4B\\nMedian Rental Price - Multi-Family Residence|MRPMF\\nMedian Rental Price - One Bedroom|MRP1B\\nMedian Rental Price - Single-Family Residence|MRPSF\\nMedian Rental Price - Studio|MRPST\\nMedian Rental Price - Three Bedrooms|MRP3B\\nMedian Rental Price - Two Bedrooms|MRP2B\\nMedian Rental Price Per Square Foot - All Homes|MRPFAH\\nMedian Rental Price Per Square Foot - Condo/Co-op|MRPFCC\\nMedian Rental Price Per Square Foot - Duplex/Triplex|MRPFDT\\nMedian Rental Price Per Square Foot - Five Or More Bedrooms|MRPF5B\\nMedian Rental Price Per Square Foot - Four Bedrooms|MRPF4B\\nMedian Rental Price Per Square Foot - Multi-Family Residence|MRPFMF\\nMedian Rental Price Per Square Foot - One Bedroom|MRPF1B\\nMedian Rental Price Per Square Foot - Single-Family Residence|MRPFSF\\nMedian Rental Price Per Square Foot - Studio|MRPFST\\nMedian Rental Price Per Square Foot - Three Bedrooms|MRPF3B\\nMedian Rental Price Per Square Foot - Two Bedrooms|MRPF2B\\nMedian Sold Price - All Homes|MSPAH\\nMedian Sold Price Per Square Foot - All Homes|MSPFAH\\nMedian Sold Price Per Square Foot - Condo|MSPFCO\\nMedian Sold Price Per Square Foot - Single-Family Residence|MSPFSF\\nMedian Value Per Square Foot - All Homes|MVALFAH\\nNF Sales|NFS\\nPercent Of Homes Decreasing In Values - All Homes|PHDVAH\\nPercent Of Homes Increasing In Values - All Homes|PHIVAH\\nPercent Of Homes Selling For Gain - All Homes|PHSGAH\\nPercent Of Homes Selling For Loss - All Homes|PHSLAH\\nPercent Of Listings With Price Reductions - All Homes|PLPRAH\\nPercent Of Listings With Price Reductions - Bottom Tier|PLPRBT\\nPercent Of Listings With Price Reductions - Condo|PLPRCO\\nPercent Of Listings With Price Reductions - Middle Tier|PLPRMT\\nPercent Of Listings With Price Reductions - Single-Family Residence|PLPRSF\\nPercent Of Listings With Price Reductions - Top Tier|PLPRTT\\nPercent Transactions That Are Previously Foreclosured Homes - All Homes|PTPFHAH\\nPrice To Rent Ratio - All Homes|PRRAH\\nTurnover - All Homes|TURNAH\\nUnsold Renos - All Homes|USRAH\\nZillow Home Value Index - All Homes|ZHVIAH\\nZillow Home Value Index - All Homes|ZHVISAH\\nZillow Home Value Index - Bottom Tier Year-Over-Year|ZHVIBTY\\nZillow Home Value Index - Bottom Tier|ZHVIBT\\nZillow Home Value Index - Condo|ZHVICO\\nZillow Home Value Index - Five Or More Bedrooms|ZHVI5B\\nZillow Home Value Index - Four Bedrooms|ZHVI4B\\nZillow Home Value Index - Middle Tier - Year-Over-Year|ZHVIMTY\\nZillow Home Value Index - Middle Tier|ZHVIMT\\nZillow Home Value Index - One Bedroom|ZHVI1B\\nZillow Home Value Index - Single-Family Residence|ZHVISF\\nZillow Home Value Index - Three Bedrooms|ZHVI3B\\nZillow Home Value Index - Top Tier - Year-Over-Year|ZHVITTY\\nZillow Home Value Index - Top Tier|ZHVITT\\nZillow Home Value Index - Two Bedrooms|ZHVI2B\\nZillow Rental Index - All Homes Plus Multi-Family Summary|ZRIAHMFS\\nZillow Rental Index - All Homes Plus Multi-Family|ZRIAHMF\\nZillow Rental Index - All Homes Summary|ZRIAHS\\nZillow Rental Index - All Homes|ZRIAH\\nZillow Rental Index - Multi-Family Residence Summary|ZRIMFRRS\\nZillow Rental Index - Multi-Family Residence|ZRIMFRR\\nZillow Rental Index - Single-Family Residence Summary|ZRISFRRS\\nZillow Rental Index - Single-Family Residence|ZRISFRR\\nZillow Rental Index Per Square Foot - All Homes|ZRIFAH\\n'"
      ]
     },
     "execution_count": 111,
     "metadata": {},
     "output_type": "execute_result"
    }
   ],
   "source": [
    "requestText = request.text\n",
    "requestText"
   ]
  },
  {
   "cell_type": "code",
   "execution_count": 135,
   "metadata": {},
   "outputs": [
    {
     "data": {
      "text/html": [
       "<div>\n",
       "<style scoped>\n",
       "    .dataframe tbody tr th:only-of-type {\n",
       "        vertical-align: middle;\n",
       "    }\n",
       "\n",
       "    .dataframe tbody tr th {\n",
       "        vertical-align: top;\n",
       "    }\n",
       "\n",
       "    .dataframe thead th {\n",
       "        text-align: right;\n",
       "    }\n",
       "</style>\n",
       "<table border=\"1\" class=\"dataframe\">\n",
       "  <thead>\n",
       "    <tr style=\"text-align: right;\">\n",
       "      <th></th>\n",
       "      <th>INDICATOR</th>\n",
       "      <th>CODE</th>\n",
       "    </tr>\n",
       "  </thead>\n",
       "  <tbody>\n",
       "    <tr>\n",
       "      <th>0</th>\n",
       "      <td>Age of Inventory (Public)</td>\n",
       "      <td>AOIP</td>\n",
       "    </tr>\n",
       "    <tr>\n",
       "      <th>1</th>\n",
       "      <td>Buyer Seller Index</td>\n",
       "      <td>BSI</td>\n",
       "    </tr>\n",
       "    <tr>\n",
       "      <th>2</th>\n",
       "      <td>Days on Zillow (Public)</td>\n",
       "      <td>DOZP</td>\n",
       "    </tr>\n",
       "    <tr>\n",
       "      <th>3</th>\n",
       "      <td>Home Sales (NSA)</td>\n",
       "      <td>SALES</td>\n",
       "    </tr>\n",
       "    <tr>\n",
       "      <th>4</th>\n",
       "      <td>Home Sales (SA)</td>\n",
       "      <td>SASALES</td>\n",
       "    </tr>\n",
       "    <tr>\n",
       "      <th>...</th>\n",
       "      <td>...</td>\n",
       "      <td>...</td>\n",
       "    </tr>\n",
       "    <tr>\n",
       "      <th>101</th>\n",
       "      <td>Zillow Rental Index - Multi-Family Residence S...</td>\n",
       "      <td>ZRIMFRRS</td>\n",
       "    </tr>\n",
       "    <tr>\n",
       "      <th>102</th>\n",
       "      <td>Zillow Rental Index - Multi-Family Residence</td>\n",
       "      <td>ZRIMFRR</td>\n",
       "    </tr>\n",
       "    <tr>\n",
       "      <th>103</th>\n",
       "      <td>Zillow Rental Index - Single-Family Residence ...</td>\n",
       "      <td>ZRISFRRS</td>\n",
       "    </tr>\n",
       "    <tr>\n",
       "      <th>104</th>\n",
       "      <td>Zillow Rental Index - Single-Family Residence</td>\n",
       "      <td>ZRISFRR</td>\n",
       "    </tr>\n",
       "    <tr>\n",
       "      <th>105</th>\n",
       "      <td>Zillow Rental Index Per Square Foot - All Homes</td>\n",
       "      <td>ZRIFAH</td>\n",
       "    </tr>\n",
       "  </tbody>\n",
       "</table>\n",
       "<p>106 rows × 2 columns</p>\n",
       "</div>"
      ],
      "text/plain": [
       "                                             INDICATOR      CODE\n",
       "0                            Age of Inventory (Public)      AOIP\n",
       "1                                   Buyer Seller Index       BSI\n",
       "2                              Days on Zillow (Public)      DOZP\n",
       "3                                     Home Sales (NSA)     SALES\n",
       "4                                      Home Sales (SA)   SASALES\n",
       "..                                                 ...       ...\n",
       "101  Zillow Rental Index - Multi-Family Residence S...  ZRIMFRRS\n",
       "102       Zillow Rental Index - Multi-Family Residence   ZRIMFRR\n",
       "103  Zillow Rental Index - Single-Family Residence ...  ZRISFRRS\n",
       "104      Zillow Rental Index - Single-Family Residence   ZRISFRR\n",
       "105    Zillow Rental Index Per Square Foot - All Homes    ZRIFAH\n",
       "\n",
       "[106 rows x 2 columns]"
      ]
     },
     "execution_count": 135,
     "metadata": {},
     "output_type": "execute_result"
    }
   ],
   "source": [
    "df = pd.read_csv('https://s3.amazonaws.com/quandl-production-static/zillow/indicators.csv', delimiter='|')\n",
    "df\n",
    "# dfCodes = df['CODE']\n",
    "# dfCodes"
   ]
  },
  {
   "cell_type": "code",
   "execution_count": 138,
   "metadata": {},
   "outputs": [
    {
     "data": {
      "text/html": [
       "<div>\n",
       "<style scoped>\n",
       "    .dataframe tbody tr th:only-of-type {\n",
       "        vertical-align: middle;\n",
       "    }\n",
       "\n",
       "    .dataframe tbody tr th {\n",
       "        vertical-align: top;\n",
       "    }\n",
       "\n",
       "    .dataframe thead th {\n",
       "        text-align: right;\n",
       "    }\n",
       "</style>\n",
       "<table border=\"1\" class=\"dataframe\">\n",
       "  <thead>\n",
       "    <tr style=\"text-align: right;\">\n",
       "      <th></th>\n",
       "      <th>INDICATOR</th>\n",
       "      <th>CODE</th>\n",
       "    </tr>\n",
       "  </thead>\n",
       "  <tbody>\n",
       "    <tr>\n",
       "      <th>1</th>\n",
       "      <td>Buyer Seller Index</td>\n",
       "      <td>BSI</td>\n",
       "    </tr>\n",
       "  </tbody>\n",
       "</table>\n",
       "</div>"
      ],
      "text/plain": [
       "            INDICATOR CODE\n",
       "1  Buyer Seller Index  BSI"
      ]
     },
     "execution_count": 138,
     "metadata": {},
     "output_type": "execute_result"
    }
   ],
   "source": [
    "df.loc[df['CODE'] == \"BSI\"]"
   ]
  },
  {
   "cell_type": "code",
   "execution_count": 145,
   "metadata": {},
   "outputs": [
    {
     "data": {
      "text/html": [
       "<div>\n",
       "<style scoped>\n",
       "    .dataframe tbody tr th:only-of-type {\n",
       "        vertical-align: middle;\n",
       "    }\n",
       "\n",
       "    .dataframe tbody tr th {\n",
       "        vertical-align: top;\n",
       "    }\n",
       "\n",
       "    .dataframe thead th {\n",
       "        text-align: right;\n",
       "    }\n",
       "</style>\n",
       "<table border=\"1\" class=\"dataframe\">\n",
       "  <thead>\n",
       "    <tr style=\"text-align: right;\">\n",
       "      <th></th>\n",
       "      <th>CODE</th>\n",
       "    </tr>\n",
       "  </thead>\n",
       "  <tbody>\n",
       "    <tr>\n",
       "      <th>0</th>\n",
       "      <td>AOIP</td>\n",
       "    </tr>\n",
       "    <tr>\n",
       "      <th>1</th>\n",
       "      <td>BSI</td>\n",
       "    </tr>\n",
       "    <tr>\n",
       "      <th>2</th>\n",
       "      <td>DOZP</td>\n",
       "    </tr>\n",
       "    <tr>\n",
       "      <th>3</th>\n",
       "      <td>SALES</td>\n",
       "    </tr>\n",
       "    <tr>\n",
       "      <th>4</th>\n",
       "      <td>SASALES</td>\n",
       "    </tr>\n",
       "    <tr>\n",
       "      <th>...</th>\n",
       "      <td>...</td>\n",
       "    </tr>\n",
       "    <tr>\n",
       "      <th>101</th>\n",
       "      <td>ZRIMFRRS</td>\n",
       "    </tr>\n",
       "    <tr>\n",
       "      <th>102</th>\n",
       "      <td>ZRIMFRR</td>\n",
       "    </tr>\n",
       "    <tr>\n",
       "      <th>103</th>\n",
       "      <td>ZRISFRRS</td>\n",
       "    </tr>\n",
       "    <tr>\n",
       "      <th>104</th>\n",
       "      <td>ZRISFRR</td>\n",
       "    </tr>\n",
       "    <tr>\n",
       "      <th>105</th>\n",
       "      <td>ZRIFAH</td>\n",
       "    </tr>\n",
       "  </tbody>\n",
       "</table>\n",
       "<p>106 rows × 1 columns</p>\n",
       "</div>"
      ],
      "text/plain": [
       "         CODE\n",
       "0        AOIP\n",
       "1         BSI\n",
       "2        DOZP\n",
       "3       SALES\n",
       "4     SASALES\n",
       "..        ...\n",
       "101  ZRIMFRRS\n",
       "102   ZRIMFRR\n",
       "103  ZRISFRRS\n",
       "104   ZRISFRR\n",
       "105    ZRIFAH\n",
       "\n",
       "[106 rows x 1 columns]"
      ]
     },
     "execution_count": 145,
     "metadata": {},
     "output_type": "execute_result"
    }
   ],
   "source": [
    "codes_df=pd.DataFrame(df['CODE'])\n",
    "codes_df"
   ]
  },
  {
   "cell_type": "code",
   "execution_count": 122,
   "metadata": {},
   "outputs": [],
   "source": [
    "#Zillow query url sample- GET https://www.quandl.com/api/v3/datasets/ZILL/{AREA_CATEGORY}{AREA_CODE}_{INDICATOR_CODE}\n",
    "# output - http://www.quandl.com/api/v3/datasets/ZILL/S00022_A.csv\n",
    "url = 'https://www.quandl.com/api/v3/datasets/'\n",
    "AREA_CATEGORY = 'ZILLOW'\n",
    "AREA_CODE = 'Z98005' #Z-zipcode\n",
    "INDICATOR_CODE= 'MLPFSF' #https://s3.amazonaws.com/quandl-production-static/zillow/indicators.csv"
   ]
  },
  {
   "cell_type": "code",
   "execution_count": 123,
   "metadata": {},
   "outputs": [
    {
     "data": {
      "text/plain": [
       "'ZILLOW/Z98005_MLPFSF'"
      ]
     },
     "execution_count": 123,
     "metadata": {},
     "output_type": "execute_result"
    }
   ],
   "source": [
    "query = AREA_CATEGORY + '/' + AREA_CODE + '_' + INDICATOR_CODE \n",
    "query"
   ]
  },
  {
   "cell_type": "code",
   "execution_count": 124,
   "metadata": {
    "scrolled": true
   },
   "outputs": [
    {
     "data": {
      "text/html": [
       "<div>\n",
       "<style scoped>\n",
       "    .dataframe tbody tr th:only-of-type {\n",
       "        vertical-align: middle;\n",
       "    }\n",
       "\n",
       "    .dataframe tbody tr th {\n",
       "        vertical-align: top;\n",
       "    }\n",
       "\n",
       "    .dataframe thead th {\n",
       "        text-align: right;\n",
       "    }\n",
       "</style>\n",
       "<table border=\"1\" class=\"dataframe\">\n",
       "  <thead>\n",
       "    <tr style=\"text-align: right;\">\n",
       "      <th></th>\n",
       "      <th>Value</th>\n",
       "    </tr>\n",
       "    <tr>\n",
       "      <th>Date</th>\n",
       "      <th></th>\n",
       "    </tr>\n",
       "  </thead>\n",
       "  <tbody>\n",
       "    <tr>\n",
       "      <th>2018-03-31</th>\n",
       "      <td>499.111224</td>\n",
       "    </tr>\n",
       "    <tr>\n",
       "      <th>2018-04-30</th>\n",
       "      <td>459.882583</td>\n",
       "    </tr>\n",
       "    <tr>\n",
       "      <th>2018-05-31</th>\n",
       "      <td>510.332149</td>\n",
       "    </tr>\n",
       "    <tr>\n",
       "      <th>2018-06-30</th>\n",
       "      <td>515.850144</td>\n",
       "    </tr>\n",
       "    <tr>\n",
       "      <th>2018-07-31</th>\n",
       "      <td>519.185735</td>\n",
       "    </tr>\n",
       "    <tr>\n",
       "      <th>2018-08-31</th>\n",
       "      <td>512.531969</td>\n",
       "    </tr>\n",
       "    <tr>\n",
       "      <th>2018-09-30</th>\n",
       "      <td>486.628337</td>\n",
       "    </tr>\n",
       "    <tr>\n",
       "      <th>2018-10-31</th>\n",
       "      <td>503.481635</td>\n",
       "    </tr>\n",
       "    <tr>\n",
       "      <th>2018-11-30</th>\n",
       "      <td>505.617978</td>\n",
       "    </tr>\n",
       "    <tr>\n",
       "      <th>2018-12-31</th>\n",
       "      <td>499.230769</td>\n",
       "    </tr>\n",
       "    <tr>\n",
       "      <th>2019-01-31</th>\n",
       "      <td>487.922017</td>\n",
       "    </tr>\n",
       "    <tr>\n",
       "      <th>2019-02-28</th>\n",
       "      <td>487.922017</td>\n",
       "    </tr>\n",
       "    <tr>\n",
       "      <th>2019-03-31</th>\n",
       "      <td>498.154982</td>\n",
       "    </tr>\n",
       "    <tr>\n",
       "      <th>2019-04-30</th>\n",
       "      <td>493.604651</td>\n",
       "    </tr>\n",
       "    <tr>\n",
       "      <th>2019-05-31</th>\n",
       "      <td>491.573034</td>\n",
       "    </tr>\n",
       "    <tr>\n",
       "      <th>2019-06-30</th>\n",
       "      <td>495.144867</td>\n",
       "    </tr>\n",
       "    <tr>\n",
       "      <th>2019-07-31</th>\n",
       "      <td>483.425414</td>\n",
       "    </tr>\n",
       "    <tr>\n",
       "      <th>2019-08-31</th>\n",
       "      <td>484.844575</td>\n",
       "    </tr>\n",
       "    <tr>\n",
       "      <th>2019-09-30</th>\n",
       "      <td>481.355932</td>\n",
       "    </tr>\n",
       "    <tr>\n",
       "      <th>2019-10-31</th>\n",
       "      <td>489.010989</td>\n",
       "    </tr>\n",
       "    <tr>\n",
       "      <th>2019-11-30</th>\n",
       "      <td>491.467577</td>\n",
       "    </tr>\n",
       "    <tr>\n",
       "      <th>2019-12-31</th>\n",
       "      <td>499.229188</td>\n",
       "    </tr>\n",
       "  </tbody>\n",
       "</table>\n",
       "</div>"
      ],
      "text/plain": [
       "                 Value\n",
       "Date                  \n",
       "2018-03-31  499.111224\n",
       "2018-04-30  459.882583\n",
       "2018-05-31  510.332149\n",
       "2018-06-30  515.850144\n",
       "2018-07-31  519.185735\n",
       "2018-08-31  512.531969\n",
       "2018-09-30  486.628337\n",
       "2018-10-31  503.481635\n",
       "2018-11-30  505.617978\n",
       "2018-12-31  499.230769\n",
       "2019-01-31  487.922017\n",
       "2019-02-28  487.922017\n",
       "2019-03-31  498.154982\n",
       "2019-04-30  493.604651\n",
       "2019-05-31  491.573034\n",
       "2019-06-30  495.144867\n",
       "2019-07-31  483.425414\n",
       "2019-08-31  484.844575\n",
       "2019-09-30  481.355932\n",
       "2019-10-31  489.010989\n",
       "2019-11-30  491.467577\n",
       "2019-12-31  499.229188"
      ]
     },
     "execution_count": 124,
     "metadata": {},
     "output_type": "execute_result"
    }
   ],
   "source": [
    "quandl.ApiConfig.api_key = api_key\n",
    "# quandl.get(AREA_CATEGORY + '/' + AREA_CODE + '_' + INDICATOR_CODE)\n",
    "data = quandl.get(query)\n",
    "data"
   ]
  },
  {
   "cell_type": "code",
   "execution_count": 125,
   "metadata": {},
   "outputs": [
    {
     "data": {
      "text/plain": [
       "<matplotlib.axes._subplots.AxesSubplot at 0x10febb220>"
      ]
     },
     "execution_count": 125,
     "metadata": {},
     "output_type": "execute_result"
    },
    {
     "data": {
      "image/png": "[encoded data removed]",
      "text/plain": [
       "<Figure size 432x288 with 1 Axes>"
      ]
     },
     "metadata": {
      "needs_background": "light"
     },
     "output_type": "display_data"
    }
   ],
   "source": [
    "data.plot()"
   ]
  },
  {
   "cell_type": "code",
   "execution_count": null,
   "metadata": {},
   "outputs": [],
   "source": []
  }
 ],
 "metadata": {
  "kernelspec": {
   "display_name": "Python 3",
   "language": "python",
   "name": "python3"
  },
  "language_info": {
   "codemirror_mode": {
    "name": "ipython",
    "version": 3
   },
   "file_extension": ".py",
   "mimetype": "text/x-python",
   "name": "python",
   "nbconvert_exporter": "python",
   "pygments_lexer": "ipython3",
   "version": "3.7.6"
  }
 },
 "nbformat": 4,
 "nbformat_minor": 4
}
